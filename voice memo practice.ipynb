{
 "cells": [
  {
   "cell_type": "code",
   "execution_count": 1,
   "id": "fa11b7b2",
   "metadata": {},
   "outputs": [],
   "source": [
    "import pyttsx3\n",
    "engine = pyttsx3.init() # object creation"
   ]
  },
  {
   "cell_type": "code",
   "execution_count": 43,
   "id": "b9086983",
   "metadata": {},
   "outputs": [],
   "source": [
    "\"\"\"VOICE\"\"\"\n",
    "voices = engine.getProperty('voices')       #getting details of current voice\n",
    "#engine.setProperty('voice', voices[0].id)  #changing index, changes voices. o for male\n",
    "engine.setProperty('voice', voices[18].id)   #changing index, changes voices. 1 for female\n"
   ]
  },
  {
   "cell_type": "code",
   "execution_count": 3,
   "id": "b433a2d7",
   "metadata": {},
   "outputs": [
    {
     "name": "stdout",
     "output_type": "stream",
     "text": [
      "0 com.apple.speech.synthesis.voice.Alex\n",
      "1 com.apple.speech.synthesis.voice.alice\n",
      "2 com.apple.speech.synthesis.voice.alva\n",
      "3 com.apple.speech.synthesis.voice.amelie\n",
      "4 com.apple.speech.synthesis.voice.anna\n",
      "5 com.apple.speech.synthesis.voice.carmit\n",
      "6 com.apple.speech.synthesis.voice.damayanti\n",
      "7 com.apple.speech.synthesis.voice.daniel\n",
      "8 com.apple.speech.synthesis.voice.diego\n",
      "9 com.apple.speech.synthesis.voice.ellen\n",
      "10 com.apple.speech.synthesis.voice.fiona\n",
      "11 com.apple.speech.synthesis.voice.Fred\n",
      "12 com.apple.speech.synthesis.voice.ioana\n",
      "13 com.apple.speech.synthesis.voice.joana\n",
      "14 com.apple.speech.synthesis.voice.jorge\n",
      "15 com.apple.speech.synthesis.voice.juan\n",
      "16 com.apple.speech.synthesis.voice.kanya\n",
      "17 com.apple.speech.synthesis.voice.karen\n",
      "18 com.apple.speech.synthesis.voice.kyoko\n",
      "19 com.apple.speech.synthesis.voice.laura\n",
      "20 com.apple.speech.synthesis.voice.lekha\n",
      "21 com.apple.speech.synthesis.voice.luca\n",
      "22 com.apple.speech.synthesis.voice.luciana\n",
      "23 com.apple.speech.synthesis.voice.maged\n",
      "24 com.apple.speech.synthesis.voice.mariska\n",
      "25 com.apple.speech.synthesis.voice.meijia\n",
      "26 com.apple.speech.synthesis.voice.melina\n",
      "27 com.apple.speech.synthesis.voice.milena\n",
      "28 com.apple.speech.synthesis.voice.moira\n",
      "29 com.apple.speech.synthesis.voice.monica\n",
      "30 com.apple.speech.synthesis.voice.nora\n",
      "31 com.apple.speech.synthesis.voice.paulina\n",
      "32 com.apple.speech.synthesis.voice.rishi\n",
      "33 com.apple.speech.synthesis.voice.samantha\n",
      "34 com.apple.speech.synthesis.voice.sara\n",
      "35 com.apple.speech.synthesis.voice.satu\n",
      "36 com.apple.speech.synthesis.voice.sinji\n",
      "37 com.apple.speech.synthesis.voice.tessa\n",
      "38 com.apple.speech.synthesis.voice.thomas\n",
      "39 com.apple.speech.synthesis.voice.tingting\n",
      "40 com.apple.speech.synthesis.voice.veena\n",
      "41 com.apple.speech.synthesis.voice.Victoria\n",
      "42 com.apple.speech.synthesis.voice.xander\n",
      "43 com.apple.speech.synthesis.voice.yelda\n",
      "44 com.apple.speech.synthesis.voice.yuna\n",
      "45 com.apple.speech.synthesis.voice.yuri\n",
      "46 com.apple.speech.synthesis.voice.zosia\n",
      "47 com.apple.speech.synthesis.voice.zuzana\n"
     ]
    }
   ],
   "source": [
    "\n",
    "for i in range(len(voices)): \n",
    "    print(i, voices[i].id)\n",
    "    engine.setProperty('voice', voices[i].id) \n",
    "    engine.say(\"Hi Fei, I love Ella. \")\n",
    "    engine.runAndWait()\n",
    "    engine.stop()"
   ]
  },
  {
   "cell_type": "code",
   "execution_count": 49,
   "id": "32100a57",
   "metadata": {},
   "outputs": [],
   "source": [
    "rate = engine.getProperty('rate')   # getting details of current speaking rate\n",
    "# print (rate)                        #printing current voice rate\n",
    "engine.setProperty('rate', 180)     # setting up new voice rate"
   ]
  },
  {
   "cell_type": "code",
   "execution_count": 57,
   "id": "70529ddc",
   "metadata": {},
   "outputs": [],
   "source": [
    "text = \"\"\"イー。フェイ・ガオ\"\"\"\n",
    "engine.say(text)\n",
    "# engine.say('My current speaking rate is ' + str(rate))\n",
    "engine.runAndWait()\n",
    "engine.stop()"
   ]
  },
  {
   "cell_type": "code",
   "execution_count": null,
   "id": "667fbc0f",
   "metadata": {},
   "outputs": [],
   "source": []
  }
 ],
 "metadata": {
  "kernelspec": {
   "display_name": "Python 3 (ipykernel)",
   "language": "python",
   "name": "python3"
  },
  "language_info": {
   "codemirror_mode": {
    "name": "ipython",
    "version": 3
   },
   "file_extension": ".py",
   "mimetype": "text/x-python",
   "name": "python",
   "nbconvert_exporter": "python",
   "pygments_lexer": "ipython3",
   "version": "3.11.4"
  }
 },
 "nbformat": 4,
 "nbformat_minor": 5
}
